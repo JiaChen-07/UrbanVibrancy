{
 "cells": [
  {
   "cell_type": "code",
   "execution_count": null,
   "metadata": {},
   "outputs": [],
   "source": [
    "user_matrix = pd.DataFrame()\n",
    "user_matrix['userid'] = sorted(point['userid'].unique())\n",
    "user_matrix = user_matrix.set_index(user_matrix['userid'])\n",
    "user_matrix['busy'] = 1\n",
    "user_matrix.head()"
   ]
  },
  {
   "cell_type": "code",
   "execution_count": null,
   "metadata": {},
   "outputs": [],
   "source": [
    "land_matrix = pd.DataFrame()\n",
    "land_matrix['landid'] = sorted(point['index_right'].unique())\n",
    "land_matrix = land_matrix.set_index(land_matrix['landid'])\n",
    "\n",
    "land_matrix['busy'] = 1 \n",
    "\n",
    "len_user = len(user_matrix)\n",
    "len_land = len(land_matrix)\n",
    "d = 0.85 "
   ]
  },
  {
   "cell_type": "code",
   "execution_count": null,
   "metadata": {},
   "outputs": [],
   "source": [
    "def user2land(land_matrix, user_matrix):    \n",
    "    land_change = land_matrix.copy()\n",
    "    land_change.iloc[:,1] = 0\n",
    "    for i in range(len(point)):\n",
    "        this_userid = point.iloc[i]['userid']\n",
    "        this_landid = point.iloc[i]['index_right']\n",
    "        land_change.loc[this_landid,'busy'] += (user_matrix.loc[this_userid,'busy'] \\\n",
    "        / len(point[(point['userid']==this_userid)]))\n",
    "    return land_change\n",
    "\n",
    "        \n",
    "def land2user(land_matrix, user_matrix):\n",
    "    user_change = user_matrix.copy()\n",
    "    user_change.iloc[:,1] = 0\n",
    "    for i in range(len(point)):\n",
    "        this_userid = point.iloc[i]['userid']\n",
    "        this_landid = point.iloc[i]['index_right']\n",
    "        user_change.loc[this_userid,'busy'] += (land_matrix.loc[this_landid,'busy'] \\\n",
    "        / len(point[(point['index_right']==this_landid)]))\n",
    "    return user_change"
   ]
  },
  {
   "cell_type": "code",
   "execution_count": null,
   "metadata": {},
   "outputs": [],
   "source": [
    "land_change = user2land(land_matrix, user_matrix)\n",
    "land_matrix.iloc[:,1] = (land_change.iloc[:,1]*d + (1-d)/len_land)   \n",
    "\n",
    "user_change = land2user(land_matrix, user_matrix)\n",
    "user_matrix.iloc[:,1] = (user_change.iloc[:,1]*d + (1-d)/len_user)  "
   ]
  },
  {
   "cell_type": "code",
   "execution_count": null,
   "metadata": {},
   "outputs": [],
   "source": [
    "user_process = pd.DataFrame(index=user_matrix.index)\n",
    "land_process = pd.DataFrame(index=land_matrix.index)\n",
    "\n",
    "user_process[1] = user_matrix['busy']\n",
    "land_process[1] = land_matrix['busy']\n",
    "\n",
    "quit = False\n",
    "vote_num = 1  \n",
    "sigma = 0.001  \n",
    "while not quit:\n",
    "    vote_num += 1\n",
    "    print(vote_num)\n",
    "    \n",
    "    land_change = user2land(land_matrix, user_matrix)\n",
    "    land_change.iloc[:,1] = land_change.iloc[:,1]*d + (1-d)/len_land\n",
    "    land_matrix = land_change.copy()\n",
    "    user_change = land2user(land_matrix, user_matrix)\n",
    "    user_change.iloc[:,1] = user_change.iloc[:,1]*d + (1-d)/len_user\n",
    "    user_matrix = user_change.copy()\n",
    "    \n",
    "    user_process[vote_num] = user_change['busy'] \n",
    "    land_process[vote_num] = land_change['busy'] \n",
    "    \n",
    "    if vote_num >2:\n",
    "        this_user_change = user_change.iloc[:,1].values\n",
    "        last_user_change = last_user.iloc[:,1].values\n",
    "        this_land_change = land_change.iloc[:,1].values\n",
    "        last_land_change = last_land.iloc[:,1].values\n",
    "        \n",
    "        a = np.linalg.norm(last_user_change-this_user_change)\n",
    "        b = np.linalg.norm(last_land_change-this_land_change)\n",
    "        \n",
    "        print(a)\n",
    "        print(b)\n",
    "        \n",
    "        if (a<sigma) and (b<sigma):\n",
    "            quit = True    \n",
    "    \n",
    "    last_user = user_change.copy()\n",
    "    last_land = land_change.copy()"
   ]
  },
  {
   "cell_type": "code",
   "execution_count": null,
   "metadata": {},
   "outputs": [],
   "source": [
    "user_process.to_csv('user_process_busy.csv')\n",
    "land_process.to_csv('land_process_busy.csv')"
   ]
  }
 ],
 "metadata": {
  "kernelspec": {
   "display_name": "Python 3",
   "language": "python",
   "name": "python3"
  },
  "language_info": {
   "codemirror_mode": {
    "name": "ipython",
    "version": 3
   },
   "file_extension": ".py",
   "mimetype": "text/x-python",
   "name": "python",
   "nbconvert_exporter": "python",
   "pygments_lexer": "ipython3",
   "version": "3.6.5"
  }
 },
 "nbformat": 4,
 "nbformat_minor": 2
}
